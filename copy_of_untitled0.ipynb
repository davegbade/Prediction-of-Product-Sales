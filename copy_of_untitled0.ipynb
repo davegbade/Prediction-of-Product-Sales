{
  "nbformat": 4,
  "nbformat_minor": 0,
  "metadata": {
    "colab": {
      "provenance": [],
      "authorship_tag": "ABX9TyPX8taXMaecnP+P7M9Qo8+W",
      "include_colab_link": true
    },
    "kernelspec": {
      "name": "python3",
      "display_name": "Python 3"
    },
    "language_info": {
      "name": "python"
    }
  },
  "cells": [
    {
      "cell_type": "markdown",
      "metadata": {
        "id": "view-in-github",
        "colab_type": "text"
      },
      "source": [
        "<a href=\"https://colab.research.google.com/github/davegbade/Prediction-of-Product-Sales/blob/main/copy_of_untitled0.ipynb\" target=\"_parent\"><img src=\"https://colab.research.google.com/assets/colab-badge.svg\" alt=\"Open In Colab\"/></a>"
      ]
    },
    {
      "cell_type": "code",
      "execution_count": null,
      "metadata": {
        "id": "F0ykkUO0zTSX"
      },
      "outputs": [],
      "source": [
        "# Lists of Fahrenheit temps:\n",
        "# TEMP_List\n",
        "week_1 = [45, 55, 49, 60, 52, 55, 58]\n",
        "week_2 = [51, 49, 62, 50, 53, 56, 59]\n",
        "week_3 = [60, 60, 61, 62, 57, 59, 58]\n",
        "week_4 = [59, 63, 62, 61, 65, 66, 62]\n",
        "\n"
      ]
    },
    {
      "cell_type": "code",
      "source": [
        "\n",
        "mean_week_1 = sum(week_1) / len(week_1)\n",
        "mean_week_2 = sum(week_2) / len(week_2)\n",
        "mean_week_3 = sum(week_3) / len(week_3)\n",
        "mean_week_4 = sum(week_4) / len(week_4)\n",
        "print(\"Mean week 1:\", mean_week_1)\n",
        "print(\"Mean week 2:\", mean_week_2)\n",
        "print(\"Mean week 3:\", mean_week_3)\n",
        "print(\"Mean week 4:\", mean_week_4)\n",
        "\n",
        "\n",
        "\n"
      ],
      "metadata": {
        "colab": {
          "base_uri": "https://localhost:8080/"
        },
        "id": "eu-ZzZN31IwT",
        "outputId": "b8d6691b-c6fc-4961-b7b4-662558c3e726"
      },
      "execution_count": null,
      "outputs": [
        {
          "output_type": "stream",
          "name": "stdout",
          "text": [
            "Mean week 1: 53.42857142857143\n",
            "Mean week 2: 54.285714285714285\n",
            "Mean week 3: 59.57142857142857\n",
            "Mean week 4: 62.57142857142857\n"
          ]
        }
      ]
    },
    {
      "cell_type": "code",
      "source": [
        "sorted_week_1 = sorted(week_1)\n",
        "sorted_week_2 = sorted(week_2)\n",
        "sorted_week_3 = sorted(week_3)\n",
        "sorted_week_4 = sorted(week_4)\n"
      ],
      "metadata": {
        "id": "h7ty27XP75ca"
      },
      "execution_count": null,
      "outputs": []
    },
    {
      "cell_type": "code",
      "source": [
        "middle_index_week_1 = len(sorted_week_1) // 2\n",
        "middle_index_week_2 = len(sorted_week_2) // 2\n",
        "middle_index_week_3 = len(sorted_week_3) // 2\n",
        "middle_index_week_4 = len(sorted_week_4) // 2"
      ],
      "metadata": {
        "id": "SDFvH_boA9PE"
      },
      "execution_count": null,
      "outputs": []
    },
    {
      "cell_type": "code",
      "source": [
        "if len(sorted_week_1) % 2 == 0:\n",
        "    median_week_1 = (sorted_week_1[middle_index_week_1 - 1] + sorted_week_1[middle_index_week_1]) / 2\n",
        "else:\n",
        "    median_week_1 = sorted_week_1[middle_index_week_1]\n",
        "\n",
        "if len(sorted_week_2) % 2 == 0:\n",
        "    median_week_2 = (sorted_week_2[middle_index_week_2 - 1] + sorted_week_2[middle_index_week_2]) / 2\n",
        "else:\n",
        "    median_week_2 = sorted_week_2[middle_index_week_2]\n",
        "\n",
        "if len(sorted_week_3) % 2 == 0:\n",
        "    median_week_3 = (sorted_week_3[middle_index_week_3 - 1] + sorted_week_3[middle_index_week_3]) / 2\n",
        "else:\n",
        "    median_week_3 = sorted_week_3[middle_index_week_3]\n",
        "\n",
        "if len(sorted_week_4) % 2 == 0:\n",
        "    median_week_4 = (sorted_week_4[middle_index_week_4 - 1] + sorted_week_4[middle_index_week_4]) / 2\n",
        "else:\n",
        "    median_week_4 = sorted_week_4[middle_index_week_4]\n",
        "print(\"Median week 1:\", median_week_1)\n",
        "print(\"Median week 2:\", median_week_2)\n",
        "print(\"Median week 3:\", median_week_3)\n",
        "print(\"Median week 4:\", median_week_4)"
      ],
      "metadata": {
        "colab": {
          "base_uri": "https://localhost:8080/"
        },
        "id": "nSWo5RedBrxB",
        "outputId": "3d16b5c3-2452-495a-b41b-a1d9d07cf94d"
      },
      "execution_count": null,
      "outputs": [
        {
          "output_type": "stream",
          "name": "stdout",
          "text": [
            "Median week 1: 55\n",
            "Median week 2: 53\n",
            "Median week 3: 60\n",
            "Median week 4: 62\n"
          ]
        }
      ]
    },
    {
      "cell_type": "code",
      "source": [
        "import statistics\n",
        "mean_week_1 = statistics.mean(week_1)\n",
        "median_week_1 = statistics.median(week_1)\n",
        "mode_week_1 = statistics.mode(week_1)\n",
        "\n",
        "mean_week_2 = statistics.mean(week_2)\n",
        "median_week_2 = statistics.median(week_2)\n",
        "mode_week_2 = statistics.mode(week_2)\n",
        "\n",
        "mean_week_3 = statistics.mean(week_3)\n",
        "median_week_3 = statistics.median(week_3)\n",
        "mode_week_3 = statistics.mode(week_3)\n",
        "\n",
        "mean_week_4 = statistics.mean(week_4)\n",
        "median_week_4 = statistics.median(week_4)\n",
        "mode_week_4 = statistics.mode(week_4)\n",
        "\n",
        "print(\"Week 1:\")\n",
        "print(\"Mean:\", mean_week_1)\n",
        "print(\"Median:\", median_week_1)\n",
        "print(\"Mode:\", mode_week_1)\n",
        "\n",
        "print(\"Week 2:\")\n",
        "print(\"Mean:\", mean_week_2)\n",
        "print(\"Median:\", median_week_2)\n",
        "print(\"Mode:\", mode_week_2)\n",
        "\n",
        "print(\"Week 3:\")\n",
        "print(\"Mean:\", mean_week_3)\n",
        "print(\"Median:\", median_week_3)\n",
        "print(\"Mode:\", mode_week_3)\n",
        "\n",
        "print(\"Week 4:\")\n",
        "print(\"Mean:\", mean_week_4)\n",
        "print(\"Median:\", median_week_4)\n",
        "print(\"Mode:\", mode_week_4)"
      ],
      "metadata": {
        "colab": {
          "base_uri": "https://localhost:8080/"
        },
        "id": "cRVYT-5uFboe",
        "outputId": "3d7564d5-572e-49f8-a25a-c0e967ae40a3"
      },
      "execution_count": null,
      "outputs": [
        {
          "output_type": "stream",
          "name": "stdout",
          "text": [
            "Week 1:\n",
            "Mean: 53.42857142857143\n",
            "Median: 55\n",
            "Mode: 55\n",
            "Week 2:\n",
            "Mean: 54.285714285714285\n",
            "Median: 53\n",
            "Mode: 51\n",
            "Week 3:\n",
            "Mean: 59.57142857142857\n",
            "Median: 60\n",
            "Mode: 60\n",
            "Week 4:\n",
            "Mean: 62.57142857142857\n",
            "Median: 62\n",
            "Mode: 62\n"
          ]
        }
      ]
    },
    {
      "cell_type": "code",
      "source": [
        "import statistics\n",
        "mean_week_1 = statistics.mean(week_1)\n",
        "median_week_1 = statistics.median(week_1)\n",
        "mode_week_1 = statistics.mode(week_1)\n",
        "\n",
        "print(\"Week 1:\")\n",
        "print(\"Mean:\", mean_week_1)\n",
        "print(\"Median:\", median_week_1)\n",
        "print(\"Mode:\", mode_week_1)"
      ],
      "metadata": {
        "colab": {
          "base_uri": "https://localhost:8080/"
        },
        "id": "0NIvBbARGJgr",
        "outputId": "8c82198b-b436-46a9-d159-4bf65893850d"
      },
      "execution_count": null,
      "outputs": [
        {
          "output_type": "stream",
          "name": "stdout",
          "text": [
            "Week 1:\n",
            "Mean: 53.42857142857143\n",
            "Median: 55\n",
            "Mode: 55\n"
          ]
        }
      ]
    },
    {
      "cell_type": "code",
      "source": [
        "import numpy as np\n",
        "import statistics\n",
        "\n",
        "def central_tendency(temperatures):\n",
        "    mean_temp = np.mean(temperatures)\n",
        "    median_temp = np.median(temperatures)\n",
        "    mode_temp = statistics.mode(temperatures)\n",
        "    \n",
        "    return mean_temp, median_temp, mode_temp"
      ],
      "metadata": {
        "id": "qEB3eVHJGfIV"
      },
      "execution_count": null,
      "outputs": []
    },
    {
      "cell_type": "code",
      "source": [
        "print(central_tendency(week_1))"
      ],
      "metadata": {
        "colab": {
          "base_uri": "https://localhost:8080/"
        },
        "id": "GQ4rnuJ2G_rZ",
        "outputId": "3d12dd7c-7309-4987-b968-a3957ef35631"
      },
      "execution_count": null,
      "outputs": [
        {
          "output_type": "stream",
          "name": "stdout",
          "text": [
            "(53.42857142857143, 55.0, 55)\n"
          ]
        }
      ]
    },
    {
      "cell_type": "code",
      "source": [
        "def central_tendency(data, verbose=True):\n",
        "    mean = sum(data) / len(data)\n",
        "    data.sort()\n",
        "    n = len(data)\n",
        "    if n % 2 == 0:\n",
        "        median1 = data[n//2]\n",
        "        median2 = data[n//2 - 1]\n",
        "        median = (median1 + median2) / 2\n",
        "    else:\n",
        "        median = data[n//2]\n",
        "    try:\n",
        "        mode = max(set(data), key = data.count)\n",
        "    except:\n",
        "        mode = None\n",
        "\n",
        "    if verbose:\n",
        "        print(f\"The mean is {mean}.\")\n",
        "        print(f\"The median is {median}.\")\n",
        "        \n",
        "        print(f\"The mode is {mode}.\")\n",
        "    else:\n",
        "        return mean, median, mode"
      ],
      "metadata": {
        "id": "h_F7ynmZICL5"
      },
      "execution_count": null,
      "outputs": []
    },
    {
      "cell_type": "code",
      "source": [
        "week_2 = [50, 60, 70, 80, 90]\n",
        "\n",
        "# With \"verbose = True\" included as the second argument in the function call.\n",
        "central_tendency(week_2, verbose=True)\n",
        "\n",
        "# With no argument for verbose included in the functional call (to test the default).\n",
        "central_tendency(week_2)\n",
        "\n",
        "# With \"verbose = False\" included as the second argument in the function call.\n",
        "central_tendency(week_2, verbose=False)"
      ],
      "metadata": {
        "colab": {
          "base_uri": "https://localhost:8080/"
        },
        "id": "eBNsXcKWIfRQ",
        "outputId": "5759435a-47ad-4a6c-8636-491ca2bf8ffc"
      },
      "execution_count": null,
      "outputs": [
        {
          "output_type": "stream",
          "name": "stdout",
          "text": [
            "The mean is 70.0.\n",
            "The median is 70.\n",
            "The mode is 70.\n",
            "The mean is 70.0.\n",
            "The median is 70.\n",
            "The mode is 70.\n"
          ]
        },
        {
          "output_type": "execute_result",
          "data": {
            "text/plain": [
              "(70.0, 70, 70)"
            ]
          },
          "metadata": {},
          "execution_count": 32
        }
      ]
    }
  ]
}